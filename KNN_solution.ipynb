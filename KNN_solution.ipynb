{
 "cells": [
  {
   "cell_type": "markdown",
   "metadata": {},
   "source": [
    "# k-NN (K-nearest neighbor)"
   ]
  },
  {
   "cell_type": "code",
   "execution_count": 1,
   "metadata": {},
   "outputs": [],
   "source": [
    "import numpy as np\n",
    "from sklearn.impute import KNNImputer"
   ]
  },
  {
   "cell_type": "raw",
   "metadata": {},
   "source": [
    " Age       Loan     House Price Index\n",
    "  25      40000         135\n",
    "  35      60000         256\n",
    "  45      80000         231\n",
    "  20      20000         267\n",
    "  35     120000         139\n",
    "  52      18000         150\n",
    "  23      95000         127\n",
    "  40      62000         216\n",
    "  60     100000         139\n",
    "  48     220000         250\n",
    "  33     150000         264\n",
    "  48     142000          ?\n",
    "  \n",
    "find the House Price Index for:  Age:48, Loan:142000, HPI:?"
   ]
  },
  {
   "cell_type": "code",
   "execution_count": 2,
   "metadata": {},
   "outputs": [],
   "source": [
    "## X = [[1, 2, np.nan], [3, 4, 3], [np.nan, 6, 5], [8, 8, 7]]\n",
    "\n",
    "X = [[25, 40000, 135], \n",
    "     [35, 60000, 256], \n",
    "     [45, 80000, 231],\n",
    "     [20, 20000, 267],\n",
    "     [35,120000, 139],\n",
    "     [52, 18000, 150],\n",
    "     [23, 95000, 127],\n",
    "     [40, 62000, 216],\n",
    "     [60,100000, 139],\n",
    "     [48,220000, 250],\n",
    "     [33,150000, 264],\n",
    "     [48,142000, np.nan]]"
   ]
  },
  {
   "cell_type": "code",
   "execution_count": 3,
   "metadata": {},
   "outputs": [
    {
     "name": "stdout",
     "output_type": "stream",
     "text": [
      "[[2.50000000e+01 4.00000000e+04 1.35000000e+02]\n",
      " [3.50000000e+01 6.00000000e+04 2.56000000e+02]\n",
      " [4.50000000e+01 8.00000000e+04 2.31000000e+02]\n",
      " [2.00000000e+01 2.00000000e+04 2.67000000e+02]\n",
      " [3.50000000e+01 1.20000000e+05 1.39000000e+02]\n",
      " [5.20000000e+01 1.80000000e+04 1.50000000e+02]\n",
      " [2.30000000e+01 9.50000000e+04 1.27000000e+02]\n",
      " [4.00000000e+01 6.20000000e+04 2.16000000e+02]\n",
      " [6.00000000e+01 1.00000000e+05 1.39000000e+02]\n",
      " [4.80000000e+01 2.20000000e+05 2.50000000e+02]\n",
      " [3.30000000e+01 1.50000000e+05 2.64000000e+02]\n",
      " [4.80000000e+01 1.42000000e+05 1.97636364e+02]]\n"
     ]
    }
   ],
   "source": [
    "imputer = KNNImputer(n_neighbors=11)\n",
    "print(imputer.fit_transform(X))"
   ]
  },
  {
   "cell_type": "raw",
   "metadata": {},
   "source": [
    "solution HPI:264      n=1\n",
    "solution HPI:201.5    n=2\n",
    "solution HPI:180.67   n=3\n",
    "solution HPI:167.25   n=4\n",
    "solution HPI:180      n=5\n",
    "solution HPI:191.67   n=6\n",
    "solution HPI:195.14   n=7\n",
    "solution HPI:202.75   n=8\n",
    "solution HPI:195.22   n=9\n",
    "solution HPI:202.4    n=10\n",
    "solution HPI:197.6    n=11"
   ]
  },
  {
   "cell_type": "markdown",
   "metadata": {},
   "source": [
    "# ** END ** "
   ]
  },
  {
   "cell_type": "code",
   "execution_count": 30,
   "metadata": {},
   "outputs": [],
   "source": [
    "import pandas as pd\n",
    "import matplotlib.pyplot as plt"
   ]
  },
  {
   "cell_type": "code",
   "execution_count": 31,
   "metadata": {},
   "outputs": [
    {
     "data": {
      "text/html": [
       "<div>\n",
       "<style scoped>\n",
       "    .dataframe tbody tr th:only-of-type {\n",
       "        vertical-align: middle;\n",
       "    }\n",
       "\n",
       "    .dataframe tbody tr th {\n",
       "        vertical-align: top;\n",
       "    }\n",
       "\n",
       "    .dataframe thead th {\n",
       "        text-align: right;\n",
       "    }\n",
       "</style>\n",
       "<table border=\"1\" class=\"dataframe\">\n",
       "  <thead>\n",
       "    <tr style=\"text-align: right;\">\n",
       "      <th></th>\n",
       "      <th>Age</th>\n",
       "      <th>Loan</th>\n",
       "      <th>House Price Index</th>\n",
       "    </tr>\n",
       "  </thead>\n",
       "  <tbody>\n",
       "    <tr>\n",
       "      <th>0</th>\n",
       "      <td>25</td>\n",
       "      <td>40000</td>\n",
       "      <td>135</td>\n",
       "    </tr>\n",
       "    <tr>\n",
       "      <th>1</th>\n",
       "      <td>35</td>\n",
       "      <td>60000</td>\n",
       "      <td>256</td>\n",
       "    </tr>\n",
       "    <tr>\n",
       "      <th>2</th>\n",
       "      <td>45</td>\n",
       "      <td>80000</td>\n",
       "      <td>231</td>\n",
       "    </tr>\n",
       "    <tr>\n",
       "      <th>3</th>\n",
       "      <td>20</td>\n",
       "      <td>20000</td>\n",
       "      <td>267</td>\n",
       "    </tr>\n",
       "    <tr>\n",
       "      <th>4</th>\n",
       "      <td>35</td>\n",
       "      <td>120000</td>\n",
       "      <td>139</td>\n",
       "    </tr>\n",
       "  </tbody>\n",
       "</table>\n",
       "</div>"
      ],
      "text/plain": [
       "   Age    Loan House Price Index\n",
       "0   25   40000               135\n",
       "1   35   60000               256\n",
       "2   45   80000               231\n",
       "3   20   20000               267\n",
       "4   35  120000               139"
      ]
     },
     "execution_count": 31,
     "metadata": {},
     "output_type": "execute_result"
    }
   ],
   "source": [
    "knn_data = pd.DataFrame(pd.read_csv('knn-data2.csv'))\n",
    "knn_data.head(5)"
   ]
  },
  {
   "cell_type": "code",
   "execution_count": 34,
   "metadata": {},
   "outputs": [
    {
     "data": {
      "image/png": "[encoded data removed]",
      "text/plain": [
       "<Figure size 360x360 with 1 Axes>"
      ]
     },
     "metadata": {
      "needs_background": "light"
     },
     "output_type": "display_data"
    }
   ],
   "source": [
    "fig = plt.figure(figsize=(5, 5))\n",
    "plt.scatter(knn_data['Age'], knn_data['House Price Index'], alpha=0.5, edgecolor='k')\n",
    "plt.title('Scatter plot')\n",
    "plt.xlabel('Age')\n",
    "plt.ylabel('House Price Index')\n",
    "plt.show()"
   ]
  },
  {
   "cell_type": "code",
   "execution_count": 35,
   "metadata": {},
   "outputs": [
    {
     "data": {
      "image/png": "[encoded data removed]",
      "text/plain": [
       "<Figure size 360x360 with 1 Axes>"
      ]
     },
     "metadata": {
      "needs_background": "light"
     },
     "output_type": "display_data"
    }
   ],
   "source": [
    "fig = plt.figure(figsize=(5, 5))\n",
    "plt.scatter(knn_data['Loan'], knn_data['House Price Index'], alpha=0.5, edgecolor='k')\n",
    "plt.title('Scatter plot')\n",
    "plt.xlabel('Loan')\n",
    "plt.ylabel('House Price Index')\n",
    "plt.show()"
   ]
  },
  {
   "cell_type": "markdown",
   "metadata": {},
   "source": [
    "# ** END ** "
   ]
  },
  {
   "cell_type": "code",
   "execution_count": 1,
   "metadata": {},
   "outputs": [],
   "source": [
    "import numpy as np\n",
    "import pandas as pd\n",
    "from sklearn.impute import KNNImputer\n",
    "knn_data = pd.DataFrame(pd.read_csv('knn-data2.csv'))"
   ]
  },
  {
   "cell_type": "code",
   "execution_count": 2,
   "metadata": {},
   "outputs": [
    {
     "data": {
      "text/html": [
       "<div>\n",
       "<style scoped>\n",
       "    .dataframe tbody tr th:only-of-type {\n",
       "        vertical-align: middle;\n",
       "    }\n",
       "\n",
       "    .dataframe tbody tr th {\n",
       "        vertical-align: top;\n",
       "    }\n",
       "\n",
       "    .dataframe thead th {\n",
       "        text-align: right;\n",
       "    }\n",
       "</style>\n",
       "<table border=\"1\" class=\"dataframe\">\n",
       "  <thead>\n",
       "    <tr style=\"text-align: right;\">\n",
       "      <th></th>\n",
       "      <th>Age</th>\n",
       "      <th>Loan</th>\n",
       "      <th>House Price Index</th>\n",
       "    </tr>\n",
       "  </thead>\n",
       "  <tbody>\n",
       "    <tr>\n",
       "      <th>0</th>\n",
       "      <td>25</td>\n",
       "      <td>40000</td>\n",
       "      <td>135</td>\n",
       "    </tr>\n",
       "    <tr>\n",
       "      <th>1</th>\n",
       "      <td>35</td>\n",
       "      <td>60000</td>\n",
       "      <td>256</td>\n",
       "    </tr>\n",
       "    <tr>\n",
       "      <th>2</th>\n",
       "      <td>45</td>\n",
       "      <td>80000</td>\n",
       "      <td>231</td>\n",
       "    </tr>\n",
       "    <tr>\n",
       "      <th>3</th>\n",
       "      <td>20</td>\n",
       "      <td>20000</td>\n",
       "      <td>267</td>\n",
       "    </tr>\n",
       "    <tr>\n",
       "      <th>4</th>\n",
       "      <td>35</td>\n",
       "      <td>120000</td>\n",
       "      <td>139</td>\n",
       "    </tr>\n",
       "    <tr>\n",
       "      <th>5</th>\n",
       "      <td>52</td>\n",
       "      <td>18000</td>\n",
       "      <td>150</td>\n",
       "    </tr>\n",
       "    <tr>\n",
       "      <th>6</th>\n",
       "      <td>23</td>\n",
       "      <td>95000</td>\n",
       "      <td>127</td>\n",
       "    </tr>\n",
       "    <tr>\n",
       "      <th>7</th>\n",
       "      <td>40</td>\n",
       "      <td>62000</td>\n",
       "      <td>216</td>\n",
       "    </tr>\n",
       "    <tr>\n",
       "      <th>8</th>\n",
       "      <td>60</td>\n",
       "      <td>100000</td>\n",
       "      <td>139</td>\n",
       "    </tr>\n",
       "    <tr>\n",
       "      <th>9</th>\n",
       "      <td>48</td>\n",
       "      <td>220000</td>\n",
       "      <td>250</td>\n",
       "    </tr>\n",
       "    <tr>\n",
       "      <th>10</th>\n",
       "      <td>33</td>\n",
       "      <td>150000</td>\n",
       "      <td>264</td>\n",
       "    </tr>\n",
       "    <tr>\n",
       "      <th>11</th>\n",
       "      <td>48</td>\n",
       "      <td>142000</td>\n",
       "      <td>Nan</td>\n",
       "    </tr>\n",
       "  </tbody>\n",
       "</table>\n",
       "</div>"
      ],
      "text/plain": [
       "    Age    Loan House Price Index\n",
       "0    25   40000               135\n",
       "1    35   60000               256\n",
       "2    45   80000               231\n",
       "3    20   20000               267\n",
       "4    35  120000               139\n",
       "5    52   18000               150\n",
       "6    23   95000               127\n",
       "7    40   62000               216\n",
       "8    60  100000               139\n",
       "9    48  220000               250\n",
       "10   33  150000               264\n",
       "11   48  142000               Nan"
      ]
     },
     "execution_count": 2,
     "metadata": {},
     "output_type": "execute_result"
    }
   ],
   "source": [
    "## knn_data.head(5)\n",
    "knn_data"
   ]
  },
  {
   "cell_type": "code",
   "execution_count": 8,
   "metadata": {},
   "outputs": [
    {
     "name": "stdout",
     "output_type": "stream",
     "text": [
      "[[2.50000000e+01 4.00000000e+04 1.35000000e+02]\n",
      " [3.50000000e+01 6.00000000e+04 2.56000000e+02]\n",
      " [4.50000000e+01 8.00000000e+04 2.31000000e+02]\n",
      " [2.00000000e+01 2.00000000e+04 2.67000000e+02]\n",
      " [3.50000000e+01 1.20000000e+05 1.39000000e+02]\n",
      " [5.20000000e+01 1.80000000e+04 1.50000000e+02]\n",
      " [2.30000000e+01 9.50000000e+04 1.27000000e+02]\n",
      " [4.00000000e+01 6.20000000e+04 2.16000000e+02]\n",
      " [6.00000000e+01 1.00000000e+05 1.39000000e+02]\n",
      " [4.80000000e+01 2.20000000e+05 2.50000000e+02]\n",
      " [3.30000000e+01 1.50000000e+05 2.64000000e+02]\n",
      " [4.80000000e+01 1.42000000e+05 1.97636364e+02]]\n"
     ]
    }
   ],
   "source": [
    "imputer = KNNImputer(n_neighbors = 11)   ## k value\n",
    "print(imputer.fit_transform(knn_data))\n",
    "\n",
    "## Age               Loan      House Price Index"
   ]
  },
  {
   "cell_type": "code",
   "execution_count": 20,
   "metadata": {},
   "outputs": [
    {
     "data": {
      "text/plain": [
       "197.63636363636363"
      ]
     },
     "execution_count": 20,
     "metadata": {},
     "output_type": "execute_result"
    }
   ],
   "source": [
    "a = imputer.fit_transform(knn_data)\n",
    "a[11, 2]"
   ]
  },
  {
   "cell_type": "code",
   "execution_count": null,
   "metadata": {},
   "outputs": [],
   "source": []
  }
 ],
 "metadata": {
  "kernelspec": {
   "display_name": "Python 3",
   "language": "python",
   "name": "python3"
  },
  "language_info": {
   "codemirror_mode": {
    "name": "ipython",
    "version": 3
   },
   "file_extension": ".py",
   "mimetype": "text/x-python",
   "name": "python",
   "nbconvert_exporter": "python",
   "pygments_lexer": "ipython3",
   "version": "3.7.6"
  }
 },
 "nbformat": 4,
 "nbformat_minor": 4
}
